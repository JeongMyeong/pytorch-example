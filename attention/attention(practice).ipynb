{
 "cells": [
  {
   "cell_type": "code",
   "execution_count": 1,
   "metadata": {},
   "outputs": [],
   "source": [
    "# 데이터 다운로드 링크 : http://www.manythings.org/anki\n",
    "# Base Code : https://wikidocs.net/24996\n",
    "# 참고 : https://discuss.pytorch.org/t/understanding-lstm-input/31110\n",
    "import pandas as pd\n",
    "import warnings\n",
    "import torch\n",
    "import torch.nn as nn\n",
    "from torch import optim\n",
    "warnings.filterwarnings('ignore')\n",
    "# lines = pd.read_csv('dataset/fra.txt', names=['src', 'tar','drop'], sep='\\t')\n",
    "lines.drop(['drop'], inplace=True, axis=1)\n",
    "len(lines)\n",
    "torch.manual_seed(42)\n",
    "device = torch.device('cuda' if torch.cuda.is_available() else 'cpu')"
   ]
  },
  {
   "cell_type": "code",
   "execution_count": 2,
   "metadata": {},
   "outputs": [],
   "source": [
    "SOS_token = 0\n",
    "EOS_token = 1\n",
    "\n",
    "raw = [\"I feel hungry.\t나는 배가 고프다.\",\n",
    "       \"Pytorch is very easy.\t파이토치는 매우 쉽다.\",\n",
    "       \"Pytorch is a framework for deep learning.\t파이토치는 딥러닝을 위한 프레임워크이다.\",\n",
    "       \"Pytorch is very clear to use.\t파이토치는 사용하기 매우 직관적이다.\"]"
   ]
  },
  {
   "cell_type": "code",
   "execution_count": 4,
   "metadata": {},
   "outputs": [
    {
     "name": "stdout",
     "output_type": "stream",
     "text": [
      "reading corpus...\n",
      "Read {} sentence pairs 4\n",
      "[['i feel hungry.', '나는 배가 고프다.'], ['pytorch is very easy.', '파이토치는 매우 쉽다.'], ['pytorch is a framework for deep learning.', '파이토치는 딥러닝을 위한 프레임워크이다.'], ['pytorch is very clear to use.', '파이토치는 사용하기 매우 직관적이다.']]\n",
      "Trimmed to 4 sentence pairs\n",
      "Counting words...\n",
      "source vocab size =  17\n",
      "target vocab size =  13\n"
     ]
    }
   ],
   "source": [
    "SOURCE_MAX_LENGTH = 10\n",
    "TARGET_MAX_LENGTH = 12\n",
    "load_pairs, load_source_vocab, load_target_vocab = preprocess(raw, SOURCE_MAX_LENGTH, TARGET_MAX_LENGTH)\n"
   ]
  },
  {
   "cell_type": "code",
   "execution_count": 1,
   "metadata": {},
   "outputs": [],
   "source": [
    "def tensorize(vocab, sentence):\n",
    "    indexs = [vocab.vocab2index[word] for word in sentence.split(\" \")]\n",
    "    indexs.append(vocab.vocab2index[\"<EOS>\"])\n",
    "    return torch.Tensor(indexs).long().to(device).view(-1,1)"
   ]
  },
  {
   "cell_type": "markdown",
   "metadata": {},
   "source": [
    "# GRU seq2seq"
   ]
  },
  {
   "cell_type": "code",
   "execution_count": 61,
   "metadata": {},
   "outputs": [],
   "source": [
    "class Encoder(nn.Module):\n",
    "    def __init__(self):\n",
    "        super(Encoder, self).__init__()\n",
    "        self.hidden_size = 16\n",
    "        self.embedding = nn.Embedding(load_source_vocab.n_vocab, self.hidden_size)\n",
    "        self.gru = nn.GRU(self.hidden_size, self.hidden_size)\n",
    "        \n",
    "    def forward(self, x, hidden):\n",
    "        x = self.embedding(x)\n",
    "        x = x.view(1, 1, -1)\n",
    "        x, hidden = self.gru(x, hidden)\n",
    "        return x, hidden"
   ]
  },
  {
   "cell_type": "code",
   "execution_count": 113,
   "metadata": {},
   "outputs": [],
   "source": [
    "class Decoder(nn.Module):\n",
    "    def __init__(self):\n",
    "        super(Decoder, self).__init__()\n",
    "        self.hidden_size = 16\n",
    "        self.embedding = nn.Embedding(load_target_vocab.n_vocab, self.hidden_size)\n",
    "        self.lstm = nn.GRU(self.hidden_size, self.hidden_size)\n",
    "        self.softmax = nn.LogSoftmax(dim=1)\n",
    "        self.out = nn.Linear(self.hidden_size, load_target_vocab.n_vocab)\n",
    "        \n",
    "    def forward(self, X, hidden):\n",
    "        X = self.embedding(X)\n",
    "        X = X.view(1, 1, -1)\n",
    "        X, hidden = self.lstm(X,hidden)\n",
    "        X = self.softmax(self.out(X[0]))\n",
    "        return X, hidden\n",
    "        \n",
    "        "
   ]
  },
  {
   "cell_type": "code",
   "execution_count": 143,
   "metadata": {},
   "outputs": [
    {
     "name": "stdout",
     "output_type": "stream",
     "text": [
      "test\n",
      "torch.Size([1, 16])\n",
      "torch.Size([1, 1, 16])\n"
     ]
    }
   ],
   "source": [
    "# hidden_state = torch.zeros(1,1,16).to(device)\n",
    "# cell_state = torch.zeros(1,1,16).to(device)\n",
    "\n",
    "dec = Decoder().to(device)\n",
    "X, hidden_state, cell_state = dec(target_tensor[0], hidden_state, cell_state)"
   ]
  },
  {
   "cell_type": "markdown",
   "metadata": {},
   "source": [
    "# LSTM Train"
   ]
  },
  {
   "cell_type": "code",
   "execution_count": 30,
   "metadata": {},
   "outputs": [
    {
     "name": "stdout",
     "output_type": "stream",
     "text": [
      "Wall time: 28.5 s\n"
     ]
    }
   ],
   "source": [
    "%%time\n",
    "import random\n",
    "encoder = Encoder().to(device)\n",
    "decoder = Decoder().to(device)\n",
    "learning_rate=0.05\n",
    "n_iter = 2000\n",
    "loss_list = []\n",
    "\n",
    "loss_total = 0\n",
    "encoder_optimizer = optim.SGD(encoder.parameters(), lr=learning_rate)\n",
    "decoder_optimizer = optim.SGD(decoder.parameters(), lr=learning_rate)\n",
    "\n",
    "training_batch = [random.choice(load_pairs) for _ in range(n_iter)]\n",
    "training_source = [tensorize(load_source_vocab, pair[0]) for pair in training_batch]\n",
    "training_target = [tensorize(load_target_vocab, pair[1]) for pair in training_batch]\n",
    "\n",
    "\n",
    "\n",
    "criterion = nn.NLLLoss()\n",
    "for i in range(1, n_iter+1):\n",
    "    source_tensor = training_source[i-1]\n",
    "    target_tensor = training_target[i-1]\n",
    "    \n",
    "    encoder_hidden = torch.zeros([1,1,encoder.hidden_size]).to(device)    \n",
    "    encoder_cell = torch.zeros([1,1,encoder.hidden_size]).to(device)\n",
    "    \n",
    "    encoder_optimizer.zero_grad()\n",
    "    decoder_optimizer.zero_grad()\n",
    "    \n",
    "    source_length = source_tensor.size(0)\n",
    "    target_length = target_tensor.size(0)\n",
    "    \n",
    "    loss = 0\n",
    "\n",
    "    for enc_input in range(source_length):\n",
    "        _, encoder_hidden, encoder_cell = encoder(source_tensor[enc_input], encoder_hidden, encoder_cell)\n",
    "    # 한 문장의 encoder 끝\n",
    "        \n",
    "    decoder_input = torch.Tensor([[SOS_token]]).long().to(device)\n",
    "    decoder_hidden = encoder_hidden\n",
    "    decoder_cell = encoder_cell\n",
    "    \n",
    "    for di in range(target_length):\n",
    "        decoder_output, decoder_hidden, decoder_cell  = decoder(decoder_input, decoder_hidden,decoder_cell)\n",
    "        loss += criterion(decoder_output, target_tensor[di])\n",
    "        decoder_input = target_tensor[di]\n",
    "        \n",
    "    loss.backward()\n",
    "    encoder_optimizer.step()\n",
    "    decoder_optimizer.step()\n",
    "\n",
    "    loss_iter = loss.item() / target_length\n",
    "    loss_total += loss_iter\n",
    "    \n",
    "    if i % 1 == 0:\n",
    "        loss_list.append(loss_total)\n",
    "        loss_avg = loss_total / 1\n",
    "        loss_total = 0\n",
    "#         print(\"[{} - {}%] loss = {:05.4f}\".format(i, i/n_iter * 100, loss_avg))"
   ]
  },
  {
   "cell_type": "markdown",
   "metadata": {},
   "source": [
    "# GRU Train"
   ]
  },
  {
   "cell_type": "code",
   "execution_count": null,
   "metadata": {},
   "outputs": [],
   "source": [
    "%%time\n",
    "import random\n",
    "encoder = Encoder().to(device)\n",
    "decoder = Decoder().to(device)\n",
    "learning_rate=0.01\n",
    "n_iter = 2000\n",
    "loss_list = []\n",
    "\n",
    "loss_total = 0\n",
    "encoder_optimizer = optim.SGD(encoder.parameters(), lr=learning_rate)\n",
    "decoder_optimizer = optim.SGD(decoder.parameters(), lr=learning_rate)\n",
    "\n",
    "training_batch = [random.choice(load_pairs) for _ in range(n_iter)]\n",
    "training_source = [tensorize(load_source_vocab, pair[0]) for pair in training_batch]\n",
    "training_target = [tensorize(load_target_vocab, pair[1]) for pair in training_batch]\n",
    "\n",
    "\n",
    "\n",
    "criterion = nn.NLLLoss()\n",
    "for i in range(1, n_iter+1):\n",
    "    source_tensor = training_source[i-1]\n",
    "    target_tensor = training_target[i-1]\n",
    "    \n",
    "    encoder_hidden = torch.zeros([1,1,encoder.hidden_size]).to(device)    \n",
    "    \n",
    "    encoder_optimizer.zero_grad()\n",
    "    decoder_optimizer.zero_grad()\n",
    "    \n",
    "    source_length = source_tensor.size(0)\n",
    "    target_length = target_tensor.size(0)\n",
    "    \n",
    "    loss = 0\n",
    "\n",
    "    for enc_input in range(source_length):\n",
    "        _, encoder_hidden = encoder(source_tensor[enc_input], encoder_hidden)\n",
    "    # 한 문장의 encoder 끝\n",
    "        \n",
    "    decoder_input = torch.Tensor([[SOS_token]]).long().to(device)\n",
    "    decoder_hidden = encoder_hidden\n",
    "    for di in range(target_length):\n",
    "        decoder_output, decoder_hidden = decoder(decoder_input, decoder_hidden)\n",
    "        loss += criterion(decoder_output, target_tensor[di])\n",
    "        decoder_input = target_tensor[di]\n",
    "        \n",
    "    loss.backward()\n",
    "    encoder_optimizer.step()\n",
    "    decoder_optimizer.step()\n",
    "\n",
    "    loss_iter = loss.item() / target_length\n",
    "    loss_total += loss_iter\n",
    "    \n",
    "    if i % 100 == 0:\n",
    "        loss_list.append(loss_total)\n",
    "        loss_avg = loss_total / 100\n",
    "        loss_total = 0\n",
    "        print(\"[{} - {}%] loss = {:05.4f}\".format(i, i/n_iter * 100, loss_avg))"
   ]
  },
  {
   "cell_type": "code",
   "execution_count": 31,
   "metadata": {},
   "outputs": [
    {
     "data": {
      "image/png": "[encoded data removed]",
      "text/plain": [
       "<Figure size 1440x720 with 1 Axes>"
      ]
     },
     "metadata": {
      "needs_background": "light"
     },
     "output_type": "display_data"
    }
   ],
   "source": [
    "import matplotlib.pyplot as plt\n",
    "import seaborn as sns\n",
    "plt.figure(figsize=(20,10))\n",
    "plt.plot(loss_list)\n",
    "plt.grid()\n",
    "plt.savefig('loss.png')"
   ]
  },
  {
   "cell_type": "code",
   "execution_count": 28,
   "metadata": {},
   "outputs": [
    {
     "name": "stdout",
     "output_type": "stream",
     "text": [
      "> i feel hungry.\n",
      "= 나는 배가 고프다.\n",
      "< 나는 배가 고프다. <EOS>\n",
      "\n",
      "> pytorch is very easy.\n",
      "= 파이토치는 매우 쉽다.\n",
      "< 파이토치는 매우 쉽다. <EOS>\n",
      "\n",
      "> pytorch is a framework for deep learning.\n",
      "= 파이토치는 딥러닝을 위한 프레임워크이다.\n",
      "< 파이토치는 딥러닝을 위한 프레임워크이다. <EOS>\n",
      "\n",
      "> pytorch is very clear to use.\n",
      "= 파이토치는 사용하기 매우 직관적이다.\n",
      "< 파이토치는 사용하기 매우 직관적이다. <EOS>\n",
      "\n"
     ]
    }
   ],
   "source": [
    "for pair in load_pairs:\n",
    "    print(\">\", pair[0])\n",
    "    print(\"=\", pair[1])\n",
    "    source_tensor = tensorize(load_source_vocab, pair[0])\n",
    "    source_length = source_tensor.size()[0]\n",
    "    encoder_hidden = torch.zeros([1, 1, encoder.hidden_size]).to(device)\n",
    "    encoder_cell = torch.zeros([1, 1, encoder.hidden_size]).to(device)\n",
    "    \n",
    "    for ei in range(source_length):\n",
    "        _, encoder_hidden, encoder_cell = encoder(source_tensor[ei], encoder_hidden,encoder_cell)\n",
    "        \n",
    "    decoder_input = torch.Tensor([[SOS_token]]).long().to(device)\n",
    "    decoder_hidden = encoder_hidden.to(device)\n",
    "    decoder_cell = encoder_cell.to(device)\n",
    "    decoded_words = []\n",
    "    \n",
    "    for di in range(12):\n",
    "        decoder_output, decoder_hidden, decoder_cell = decoder(decoder_input, decoder_hidden,\n",
    "                                                              decoder_cell)\n",
    "        _, top_index = decoder_output.data.topk(1)\n",
    "        \n",
    "        if top_index.item() == EOS_token:\n",
    "            decoded_words.append('<EOS>')\n",
    "            break\n",
    "        else:\n",
    "            decoded_words.append(load_target_vocab.index2vocab[top_index.item()])\n",
    "            \n",
    "        decoder_input = top_index.squeeze().detach()\n",
    "        \n",
    "    predict_words = decoded_words\n",
    "    predict_sentence = \" \".join(predict_words)\n",
    "    print(\"<\", predict_sentence)\n",
    "    print(\"\")"
   ]
  }
 ],
 "metadata": {
  "kernelspec": {
   "display_name": "Python 3",
   "language": "python",
   "name": "python3"
  },
  "language_info": {
   "codemirror_mode": {
    "name": "ipython",
    "version": 3
   },
   "file_extension": ".py",
   "mimetype": "text/x-python",
   "name": "python",
   "nbconvert_exporter": "python",
   "pygments_lexer": "ipython3",
   "version": "3.7.3"
  }
 },
 "nbformat": 4,
 "nbformat_minor": 4
}
